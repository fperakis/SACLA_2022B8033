{
 "cells": [
  {
   "cell_type": "code",
   "execution_count": 1,
   "metadata": {},
   "outputs": [],
   "source": [
    "import numpy as np"
   ]
  },
  {
   "cell_type": "markdown",
   "metadata": {},
   "source": [
    "## Solvent parameters"
   ]
  },
  {
   "cell_type": "code",
   "execution_count": 2,
   "metadata": {},
   "outputs": [],
   "source": [
    "# molecular weight, g/mol\n",
    "molar_w = {\n",
    "  \"water\": 18.02,\n",
    "  \"glycerol\": 92.09,\n",
    "  \"dmso\": 78.13,\n",
    "  \"acetone\": 58.08,\n",
    "  \"trehalose\": 342.296\n",
    "}\n",
    "\n",
    "# density, g/ml\n",
    "density = {\n",
    "  \"water\": 0.997,\n",
    "  \"glycerol\": 1.261,\n",
    "  \"dmso\": 1.1004,\n",
    "  \"acetone\": 0.784\n",
    "}"
   ]
  },
  {
   "cell_type": "markdown",
   "metadata": {},
   "source": [
    "## Conversion functions"
   ]
  },
  {
   "cell_type": "code",
   "execution_count": 3,
   "metadata": {},
   "outputs": [],
   "source": [
    "def mol2volmass(cryoprotectant, mol, Vtot=1000):\n",
    "# converts mol% to volume/mass fraction \n",
    "# input: name of cryoprotectant (string), mol% and total sample volume (default: 1000 ul)\n",
    "    \n",
    "    Mw1 = molar_w[cryoprotectant]\n",
    "    rho1 = density[cryoprotectant]\n",
    "    Mw2 = molar_w['water']\n",
    "    rho2 = density['water']\n",
    "\n",
    "    x1 = mol/100 # mol fraction of cryoprotectant\n",
    "    #Vtot = 1000 # ul\n",
    "\n",
    "    V1 = (-(x1*rho2*Vtot/Mw2)/(x1*rho1/Mw1-x1*rho2/Mw2-rho1/Mw1)) # ul cryoprotectant\n",
    "    V2 = (Vtot-V1) # ul water\n",
    "    vol = V1/Vtot # volume fraction cryoprotectant\n",
    "    \n",
    "    m1 = rho1*V1 # mg cryoprotectant\n",
    "    m2 = rho2*V2 # mg water\n",
    "    w = m1/(m1+m2)\n",
    "\n",
    "    print(r'volume (ml) cryoprotectant:', '%.1f' %(V1))\n",
    "    print(r'volume (ml) water:', '%.1f' %(V2))\n",
    "    print(r'mass (g) cryoprotectant:', '%.1f' %(m1))\n",
    "    print(r'mass (g) water:', '%.1f' %(m2))\n",
    "    print(r'vol%:', '%.1f' %(vol*100))\n",
    "    print(r'w%:', '%.1f' %(w*100))\n",
    "    \n",
    "    return vol, w # volume fraction, mass fraction"
   ]
  },
  {
   "cell_type": "code",
   "execution_count": 4,
   "metadata": {},
   "outputs": [],
   "source": [
    "def vol2mol(cryoprotectant, vol):\n",
    "# converts vol% to molar fraction\n",
    "# input: name of cryoprotectant (string), vol% \n",
    "    \n",
    "    Mw1 = molar_w[cryoprotectant]\n",
    "    rho1 = density[cryoprotectant]\n",
    "    Mw2 = molar_w['water']\n",
    "    rho2 = density['water']\n",
    "    \n",
    "    V1 = vol/100 # volume of cryoprotectant\n",
    "    V2 = 1-V1 # volume of water\n",
    "    mol = (rho1*V1/Mw1)/(rho1*V1/Mw1 + rho2*V2/Mw2) # molar fraction cryoprotectant\n",
    "\n",
    "    print(r'mol%:', '%.1f' %(mol*100))\n",
    "    \n",
    "    return mol # mol fraction"
   ]
  },
  {
   "cell_type": "code",
   "execution_count": 5,
   "metadata": {},
   "outputs": [],
   "source": [
    "def mass2mol(cryoprotectant, w, mtot=1000):\n",
    "# converts mass to molar fraction\n",
    "# input: name of cryoprotectant (string), w% \n",
    "    \n",
    "    Mw1 = molar_w[cryoprotectant]\n",
    "    Mw2 = molar_w['water']\n",
    "    \n",
    "    m1 = w/100*mtot\n",
    "    m2 = mtot-m1\n",
    "    mol = (m1/Mw1)/(m1/Mw1 + m2/Mw2) # molar fraction cryoprotectant\n",
    "\n",
    "    print(r'mol%:', '%.1f' %(mol*100))\n",
    "    print(r'mass (g) cryoprotectant:', '%.1f' %(m1))\n",
    "    print(r'mass (g) water:', '%.1f' %(m2))\n",
    "    \n",
    "    return mol # mol fraction"
   ]
  },
  {
   "cell_type": "markdown",
   "metadata": {},
   "source": [
    "## Convert molar fraction to volume/mass fraction"
   ]
  },
  {
   "cell_type": "code",
   "execution_count": 8,
   "metadata": {},
   "outputs": [
    {
     "name": "stdout",
     "output_type": "stream",
     "text": [
      "volume (ml) cryoprotectant: 12.8\n",
      "volume (ml) water: 87.2\n",
      "mass (g) cryoprotectant: 16.1\n",
      "mass (g) water: 87.0\n",
      "vol%: 12.8\n",
      "w%: 15.6\n"
     ]
    },
    {
     "data": {
      "text/plain": [
       "(0.12781635481590967, 0.15636908761452425)"
      ]
     },
     "execution_count": 8,
     "metadata": {},
     "output_type": "execute_result"
    }
   ],
   "source": [
    "cryoprotectant = 'glycerol' \n",
    "mol = 0.035*100 # mol% cryoprotectant\n",
    "\n",
    "mol2volmass(cryoprotectant, mol, Vtot=100)"
   ]
  },
  {
   "cell_type": "markdown",
   "metadata": {},
   "source": [
    "## Convert volume to molar fraction"
   ]
  },
  {
   "cell_type": "code",
   "execution_count": 7,
   "metadata": {},
   "outputs": [
    {
     "name": "stdout",
     "output_type": "stream",
     "text": [
      "mol%: 17.8\n"
     ]
    },
    {
     "data": {
      "text/plain": [
       "0.17820349029828167"
      ]
     },
     "execution_count": 7,
     "metadata": {},
     "output_type": "execute_result"
    }
   ],
   "source": [
    "cryoprotectant = 'glycerol'\n",
    "vol = 46.7 # vol% cryoprotectant\n",
    "vol2mol(cryoprotectant, vol)"
   ]
  },
  {
   "cell_type": "markdown",
   "metadata": {},
   "source": [
    "## Convert mass to molar fraction"
   ]
  },
  {
   "cell_type": "code",
   "execution_count": 17,
   "metadata": {},
   "outputs": [
    {
     "name": "stdout",
     "output_type": "stream",
     "text": [
      "mol%: 5.0\n",
      "mass (mg) cryoprotectant: 557.0\n",
      "mass (mg) water: 557.0\n"
     ]
    },
    {
     "data": {
      "text/plain": [
       "0.05001165643490713"
      ]
     },
     "execution_count": 17,
     "metadata": {},
     "output_type": "execute_result"
    }
   ],
   "source": [
    "cryoprotectant = 'glycerol'\n",
    "m_cryo = 559\n",
    "m_wat = 555\n",
    "w = 50 #m_cryo/(m_cryo+m_wat)*100 # w% cryoprotectant\n",
    "mass2mol(cryoprotectant, w, mtot=m_cryo+m_wat)"
   ]
  },
  {
   "cell_type": "code",
   "execution_count": null,
   "metadata": {},
   "outputs": [],
   "source": []
  },
  {
   "cell_type": "code",
   "execution_count": null,
   "metadata": {},
   "outputs": [],
   "source": []
  }
 ],
 "metadata": {
  "kernelspec": {
   "display_name": "Python 3 (ipykernel)",
   "language": "python",
   "name": "python3"
  },
  "language_info": {
   "codemirror_mode": {
    "name": "ipython",
    "version": 3
   },
   "file_extension": ".py",
   "mimetype": "text/x-python",
   "name": "python",
   "nbconvert_exporter": "python",
   "pygments_lexer": "ipython3",
   "version": "3.8.1"
  }
 },
 "nbformat": 4,
 "nbformat_minor": 4
}
