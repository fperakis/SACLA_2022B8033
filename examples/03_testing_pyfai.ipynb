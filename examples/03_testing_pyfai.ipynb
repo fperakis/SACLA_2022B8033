{
 "cells": [
  {
   "cell_type": "code",
   "execution_count": null,
   "id": "5985d723-18da-45fc-9af1-f55db561a31b",
   "metadata": {},
   "outputs": [],
   "source": [
    "%matplotlib inline\n",
    "import numpy as np\n",
    "import matplotlib.pyplot as plt\n",
    "import h5py \n",
    "import time\n",
    "import pyFAI.detectors,pyFAI.azimuthalIntegrator"
   ]
  },
  {
   "cell_type": "code",
   "execution_count": null,
   "id": "3498629f-8eed-47c6-b6a9-6348f9d24850",
   "metadata": {},
   "outputs": [],
   "source": [
    "def wavelength_(photon_energy):\n",
    "    ELEMENTARY_CHARGE = 1.602176634E-19 # C\n",
    "    SPEED_OF_LIGHT = 299792458 # m/s\n",
    "    PLANCK_CONSTANT = 6.62607015E-34 # Js\n",
    "    wavelength = PLANCK_CONSTANT*SPEED_OF_LIGHT/(photon_energy*ELEMENTARY_CHARGE)\n",
    "    return wavelength"
   ]
  },
  {
   "cell_type": "code",
   "execution_count": null,
   "id": "5645da9f-551d-4596-b4e7-d5cfa10d516c",
   "metadata": {},
   "outputs": [],
   "source": [
    "# experiment parameters\n",
    "sample_det_distance = 0.079 \n",
    "photon_energy = 12000 #eV\n",
    "wavelength = wavelength_(photon_energy)\n",
    "pixel_size = 50e-6\n",
    "det_shape  = [2399,2399]\n",
    "center = [1200,1200]\n",
    "\n",
    "# -- file parameters\n",
    "run = 689943\n",
    "tag_hit = 484248110\n",
    "tag_miss = 484248108\n",
    "file_path = '../../../%s.h5'%run\n",
    "h5_hit = 'run_%s/detector_2d_assembled_1/tag_%s/detector_data'%(run,tag_hit)\n",
    "h5_miss = 'run_%s/detector_2d_assembled_1/tag_%s/detector_data'%(run,tag_miss)\n",
    "\n",
    "# integration parameters\n",
    "n_qbins = 300"
   ]
  },
  {
   "cell_type": "markdown",
   "id": "3850209f-818d-43cc-9226-0b3673f01767",
   "metadata": {},
   "source": [
    "### load h5 and plot single image"
   ]
  },
  {
   "cell_type": "markdown",
   "id": "398a2229-f815-48cb-8c45-230df2e06485",
   "metadata": {},
   "source": [
    "to generate the h5 file I run the following commands\n",
    "\n",
    "MakeTagList -b 3 -r 689943 -det 'MPCCD-8-2-002' -starttag 484248106 -endtag 484248162 -out tag_689943.lst \n",
    "\n",
    "DataConvert4 -l tag_689943.lst -dir . -o 689943.h5\n"
   ]
  },
  {
   "cell_type": "code",
   "execution_count": null,
   "id": "cf9e443d-7c7f-4c8f-ab32-f7956f8e5ea9",
   "metadata": {},
   "outputs": [],
   "source": [
    "# load h5 file\n",
    "f = h5py.File(file_path, 'r')\n",
    "#list(f.keys())\n",
    "#list(f[h5_path].keys())\n",
    "hit = np.array(f[h5_hit])\n",
    "miss = np.array(f[h5_miss])\n",
    "\n",
    "# make mask (note that for pyfai 0 is not masked, others are masked)\n",
    "mask=hit[:,:]==0"
   ]
  },
  {
   "cell_type": "code",
   "execution_count": null,
   "id": "4a1e8d23-5072-41f8-9744-f1083a5b885a",
   "metadata": {},
   "outputs": [],
   "source": [
    "plt.figure(figsize=[7,5])\n",
    "plt.subplot(2,2,1)\n",
    "plt.imshow(hit,vmin=0,vmax=1e3)\n",
    "plt.colorbar()\n",
    "\n",
    "plt.title('hit')\n",
    "\n",
    "plt.subplot(2,2,2)\n",
    "plt.imshow(miss,vmin=0,vmax=1e3)\n",
    "plt.colorbar()\n",
    "plt.title('miss')\n",
    "\n",
    "plt.subplot(2,2,3)\n",
    "plt.imshow(mask,vmin=0,vmax=1)\n",
    "plt.colorbar()\n",
    "plt.title('mask')\n",
    "\n",
    "plt.subplot(2,2,4)\n",
    "plt.imshow(hit-miss,vmin=0,vmax=5e2)\n",
    "plt.colorbar()\n",
    "plt.title('hit-miss')\n",
    "plt.plot(center[0],center[1],'x',c='red')\n",
    "plt.tight_layout()\n",
    "plt.show()"
   ]
  },
  {
   "cell_type": "markdown",
   "id": "691142cc-b79e-4ced-8dce-3d2eb987e2e4",
   "metadata": {},
   "source": [
    "### azimuthal integration"
   ]
  },
  {
   "cell_type": "code",
   "execution_count": null,
   "id": "7c847a8f-2bec-4ba9-bddc-eb183fed2657",
   "metadata": {},
   "outputs": [],
   "source": [
    "t0 = time.perf_counter()\n",
    "\n",
    "det = pyFAI.detectors.Detector(pixel1=pixel_size,pixel2=pixel_size,max_shape=det_shape)\n",
    "ai  = pyFAI.azimuthalIntegrator.AzimuthalIntegrator(dist=sample_det_distance, detector=det, wavelength=wavelength,poni1=center[0]*pixel_size,poni2=center[1]*pixel_size)\n",
    "q,I = np.array(ai.integrate1d(hit-miss,n_qbins,mask=mask,unit='q_nm^-1',correctSolidAngle=True,azimuth_range=(-180.,180.),radial_range=(4,40)))\n",
    "\n",
    "dt = time.perf_counter() - t0\n",
    "print('time = %.2f s, rate %.2f Hz'%(dt,1/dt))\n"
   ]
  },
  {
   "cell_type": "code",
   "execution_count": null,
   "id": "9dc9c9aa-2840-45fa-85e5-9ec331661b3f",
   "metadata": {},
   "outputs": [],
   "source": [
    "plt.figure(figsize=[4,3])\n",
    "plt.plot(q,I)\n",
    "plt.xlabel('Q [1/nm]')\n",
    "plt.ylabel('I(Q)')\n",
    "plt.xlim(4,40)\n",
    "plt.tight_layout()\n",
    "plt.show()"
   ]
  },
  {
   "cell_type": "code",
   "execution_count": null,
   "id": "be23b07c-d067-472c-ba11-73e0804b510b",
   "metadata": {},
   "outputs": [],
   "source": [
    "help(ai.integrate1d)"
   ]
  },
  {
   "cell_type": "code",
   "execution_count": null,
   "id": "f03355c4-32b2-4a9a-9663-72ab888a8986",
   "metadata": {},
   "outputs": [],
   "source": []
  }
 ],
 "metadata": {
  "kernelspec": {
   "display_name": "Python 3 (ipykernel)",
   "language": "python",
   "name": "python3"
  },
  "language_info": {
   "codemirror_mode": {
    "name": "ipython",
    "version": 3
   },
   "file_extension": ".py",
   "mimetype": "text/x-python",
   "name": "python",
   "nbconvert_exporter": "python",
   "pygments_lexer": "ipython3",
   "version": "3.9.6"
  }
 },
 "nbformat": 4,
 "nbformat_minor": 5
}
