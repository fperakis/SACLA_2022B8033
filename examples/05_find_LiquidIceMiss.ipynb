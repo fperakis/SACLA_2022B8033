{
 "cells": [
  {
   "cell_type": "code",
   "execution_count": null,
   "id": "86148c04-c6ca-4a6c-8fe3-e9c3371b43c3",
   "metadata": {},
   "outputs": [],
   "source": [
    "%matplotlib inline\n",
    "import numpy as np\n",
    "import matplotlib.pyplot as plt\n",
    "import h5py"
   ]
  },
  {
   "cell_type": "code",
   "execution_count": null,
   "id": "9b59e1c4-80b7-4a17-ba86-a1c870906b1e",
   "metadata": {},
   "outputs": [],
   "source": [
    "# parameters for loading\n",
    "run=690024\n",
    "path='/UserData/maddalena/sacla2018/02-h5compression/'\n",
    "pathSave='/UserData/maddalena/sacla2018/03-h5analysis/'\n",
    "f=h5py.File(pathSave+f'{run}_IqPhi_test.h5','r')\n",
    "I2d=f['I'][:]\n",
    "q=f['q'][:]"
   ]
  },
  {
   "cell_type": "code",
   "execution_count": null,
   "id": "37eb3ead-3c76-4496-be6e-f5e92e68eeb6",
   "metadata": {},
   "outputs": [],
   "source": [
    "# get 1d I\n",
    "I=np.mean(I2d,axis=1)"
   ]
  },
  {
   "cell_type": "code",
   "execution_count": null,
   "id": "5808f513-7e2a-4878-a07e-4c2713297b14",
   "metadata": {},
   "outputs": [],
   "source": [
    "#Hist of intensity not on the water peaks\n",
    "plt.figure()\n",
    "plt.hist(np.mean(I[:, (q>20)&(q<27)],axis=1))\n",
    "plt.yscale('log')"
   ]
  },
  {
   "cell_type": "code",
   "execution_count": null,
   "id": "81b4dee6-1ee4-4fb3-ada6-685424057aa1",
   "metadata": {},
   "outputs": [],
   "source": [
    "# definition of hits and miss\n",
    "miss=(np.mean(I[:,(q>20)&(q<25)],axis=1)<100)&(np.mean(I[:,(q>20)&(q<25)],axis=1)!=0)\n",
    "hits=(np.mean(I[:, (q>20)&(q<25)],axis=1)>200)\n",
    "I_hits=I[hits,:]"
   ]
  },
  {
   "cell_type": "code",
   "execution_count": null,
   "id": "e0396685-eddc-4c79-96e2-abd89fe5bcb2",
   "metadata": {},
   "outputs": [],
   "source": [
    "#plot ave hits and miss\n",
    "plt.figure()\n",
    "plt.plot(q,np.mean(I[hits,:],axis=0),label='hits')\n",
    "plt.plot(q,np.mean(I[miss,:],axis=0),label='miss')\n",
    "\n",
    "plt.legend()\n",
    "#plot ave hits - miss which should be water\n",
    "plt.figure()\n",
    "plt.plot(q,np.mean(I[hits,:],axis=0)-np.mean(I[miss,:],axis=0),label='water (hit-miss)')\n",
    "plt.grid('on')\n",
    "plt.legend()"
   ]
  },
  {
   "cell_type": "code",
   "execution_count": null,
   "id": "ed2289d4-0a5a-40b4-ab93-8cb08d15f152",
   "metadata": {},
   "outputs": [],
   "source": [
    "# histogram of the max in the intensity on the brag peak divided by the intesity total\n",
    "plt.figure()\n",
    "plt.hist(np.max(I[:,(q>12)&(q<27)],axis=1) )\n",
    "plt.yscale('log')"
   ]
  },
  {
   "cell_type": "code",
   "execution_count": null,
   "id": "2532677a-c877-4052-86b0-738e06f3190f",
   "metadata": {},
   "outputs": [],
   "source": [
    "ice=(np.max(I[:,(q>12)&(q<27)],axis=1)>600)&(np.max(I[:,(q>12)&(q<27)],axis=1)<4300)"
   ]
  },
  {
   "cell_type": "code",
   "execution_count": null,
   "id": "e6c27382-4901-422b-8ae3-ad3fdee91a10",
   "metadata": {},
   "outputs": [],
   "source": [
    "\n",
    "bkg=np.mean(I[miss,:],axis=0)\n",
    "plt.figure()\n",
    "plt.plot(q,np.mean(I[hits,:],axis=0)-bkg,label='water')\n",
    "plt.plot(q,np.mean(I[ice,:],axis=0)-bkg,label='ice')\n",
    "plt.grid('on')\n",
    "plt.legend()"
   ]
  },
  {
   "cell_type": "code",
   "execution_count": null,
   "id": "b236e488-68db-44fa-b290-42f048f7e51b",
   "metadata": {},
   "outputs": [],
   "source": [
    "# plot all the liquids singularly\n",
    "\n",
    "plt.figure()\n",
    "\n",
    "bkg=np.mean(I[miss,:],axis=0)\n",
    "I_hits=I[hits,:]\n",
    "for i in range(np.size(I_hits,0)):\n",
    "    I_corrected=I_hits[i,:]-bkg\n",
    "    plt.plot(q,I_corrected/max(I_corrected))\n",
    "# plot all the ice singularly\n",
    "plt.figure()\n",
    "I_ice=I[ice,:]\n",
    "for i in range(np.size(I_ice,0)):\n",
    "    I_corrected=I_ice[i,:]-bkg\n",
    "    plt.plot(q,I_corrected/max(I_corrected))\n"
   ]
  },
  {
   "cell_type": "code",
   "execution_count": null,
   "id": "4ea32f6a-3beb-4d6d-b0c3-4ff1220b124f",
   "metadata": {},
   "outputs": [],
   "source": [
    "print(f'number of ice ={sum(ice)}')\n",
    "print(f'number of water= {sum(hits)}')\n",
    "print(f'number of bkg ={sum(miss)}' )\n",
    "print(f'droplet hit rate = {(sum(hits)+sum(ice))/len(hits)}')\n",
    "print(f'liquid hit rate = {(sum(hits))/len(hits)}')\n",
    "print(f'ice hit rate = {sum(ice)/len(hits)}')"
   ]
  },
  {
   "cell_type": "code",
   "execution_count": null,
   "id": "bf3e5adf-1416-4a9f-9708-55002da844c5",
   "metadata": {},
   "outputs": [],
   "source": [
    "#plot 2d intensities\n",
    "\n",
    "n=14000\n",
    "plt.figure()\n",
    "\n",
    "plt.imshow(I2d[n,:,:],aspect='auto',vmin=0,vmax=200)"
   ]
  },
  {
   "cell_type": "code",
   "execution_count": null,
   "id": "db8a4343-fc2f-4f21-9001-4010fb964a55",
   "metadata": {},
   "outputs": [],
   "source": [
    "#plot all intensities\n",
    "\n",
    "plt.figure()\n",
    "\n",
    "for i in range(np.size(I,0)):\n",
    "\n",
    "    plt.plot(q[50:],I[i,50:])\n",
    "plt.ylim([0, 600])"
   ]
  },
  {
   "cell_type": "code",
   "execution_count": null,
   "id": "ae2a1b3d-1056-4469-a454-6052ead7eee9",
   "metadata": {},
   "outputs": [],
   "source": []
  },
  {
   "cell_type": "code",
   "execution_count": null,
   "id": "d35db3e5-7532-4779-a247-5a61601ec8b3",
   "metadata": {},
   "outputs": [],
   "source": []
  }
 ],
 "metadata": {
  "kernelspec": {
   "display_name": "Python 3 (ipykernel)",
   "language": "python",
   "name": "python3"
  },
  "language_info": {
   "codemirror_mode": {
    "name": "ipython",
    "version": 3
   },
   "file_extension": ".py",
   "mimetype": "text/x-python",
   "name": "python",
   "nbconvert_exporter": "python",
   "pygments_lexer": "ipython3",
   "version": "3.9.6"
  }
 },
 "nbformat": 4,
 "nbformat_minor": 5
}
