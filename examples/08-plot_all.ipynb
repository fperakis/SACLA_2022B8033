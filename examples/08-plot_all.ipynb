{
 "cells": [
  {
   "cell_type": "code",
   "execution_count": null,
   "id": "7f563e16-43b3-4fde-819d-680e46332315",
   "metadata": {},
   "outputs": [],
   "source": [
    "%matplotlib inline\n",
    "import numpy as np\n",
    "import matplotlib.pyplot as plt\n",
    "import h5py\n",
    "import os\n",
    "import glob"
   ]
  },
  {
   "cell_type": "code",
   "execution_count": null,
   "id": "343afd53-37ab-4a38-8219-4c454cb903bc",
   "metadata": {},
   "outputs": [],
   "source": [
    "ls -hrtl /UserData/maddalena/sacla2022/05-processed_I/"
   ]
  },
  {
   "cell_type": "code",
   "execution_count": null,
   "id": "fe01c25d-b4a9-45ad-a297-74497e0d6cb2",
   "metadata": {},
   "outputs": [],
   "source": [
    "path='/UserData/maddalena/sacla2022/05-processed_I/'"
   ]
  },
  {
   "cell_type": "code",
   "execution_count": null,
   "id": "6867ae2e-1fea-4362-a906-d4b80ce44223",
   "metadata": {},
   "outputs": [],
   "source": [
    "runs = [1192430, 1192434, 1192437, 1192442, 1192446, 1192451, 1192463, 1192473]\n",
    "posz = [5,10,15,20,25,30,35,40]\n",
    "\n",
    "col = plt.cm.coolwarm_r(np.linspace(0,1,len(runs)))\n",
    "plt.figure(figsize=(5,4))\n",
    "\n",
    "for i,run in enumerate(runs):\n",
    "    file=np.load(f'{path}water_{run}.npz')\n",
    "    plt.plot(file['q'][3:-3], file['I'][3:-3], c=col[i], label=str(np.round(posz[i],1)))\n",
    "    # print(file['I'][3:-3])\n",
    "plt.xlim(file['q'][3], file['q'][-3])\n",
    "plt.grid(ls=':',alpha=.9)\n",
    "legend=plt.legend(title='distance (mm)', handlelength=1, fontsize=9)\n",
    "plt.setp(legend.get_title(),fontsize=8)\n",
    "plt.ylabel(r'$I(q)$')\n",
    "plt.xlabel(r'$q$ $\\rm (\\AA^{-1})$') \n",
    "# plt.xlim(0.1,0.25)\n",
    "# plt.ylim(50,100)"
   ]
  },
  {
   "cell_type": "code",
   "execution_count": null,
   "id": "e0d5418e-d89d-4f4e-a7ae-57b73f289241",
   "metadata": {},
   "outputs": [],
   "source": [
    "plt.figure(figsize=(4,3))\n",
    "col = plt.cm.coolwarm_r(np.linspace(0,1,len(runs)))\n",
    "\n",
    "for i,run in enumerate(runs):\n",
    "    file=np.load(f'{path}water_{run}.npz')\n",
    "    plt.plot(posz[i], file['hit_rate']*100,'o',c=col[i], markeredgecolor='k', markeredgewidth=.3)\n",
    "plt.xlabel('distance (mm)')\n",
    "plt.ylabel('hit rate %')\n",
    "plt.yscale('log')"
   ]
  },
  {
   "cell_type": "markdown",
   "id": "215d8420-f288-4847-b3b9-4ce5f3b4dfd8",
   "metadata": {},
   "source": [
    "# Fit the shit"
   ]
  },
  {
   "cell_type": "code",
   "execution_count": null,
   "id": "aabff5c4-e432-451a-b5b1-86028a5d2bef",
   "metadata": {},
   "outputs": [],
   "source": [
    "from scipy.optimize import curve_fit\n",
    "\n",
    "def fit(function,x,y,p0=None,sigma=None,bounds=[None,None]):\n",
    "    '''\n",
    "    fits a function and return the fit resulting parameters and curve\n",
    "    '''\n",
    "    popt,pcov = curve_fit(function,x,y,p0=p0,sigma=sigma,bounds=bounds)\n",
    "    xc = np.linspace(min(x),max(x),len(x))\n",
    "    curve = function(xc,*popt)\n",
    "    perr = np.sqrt(np.diag(pcov))\n",
    "    return popt,xc,curve,perr\n",
    "\n",
    "def gaussian(x, a, x0, sigma, d):\n",
    "    return a*np.exp(-(x-x0)**2/(2*sigma**2)) + d"
   ]
  },
  {
   "cell_type": "code",
   "execution_count": null,
   "id": "151c7088-8468-44a3-9bd9-b1592644e0dc",
   "metadata": {},
   "outputs": [],
   "source": [
    "# runs = [1192428, 1192430, 1192433, 1192437, 1192442, 1192446, 1192450]\n",
    "# posz = [0.7,5,10,15,20,25,30]\n",
    "\n",
    "col = plt.cm.coolwarm_r(np.linspace(0,1,len(runs)))\n",
    "fig, (a1,a2) = plt.subplots(1,2,figsize=(7,3), tight_layout=True)\n",
    "xmin, xmax = 230, -1\n",
    "\n",
    "for i,run in enumerate(runs):\n",
    "    file=np.load(f'{path}water_{run}.npz')\n",
    "    a1.plot(file['q'][3:-3:4], file['I'][3:-3:4], c=col[i], ls='',marker='o', ms=3, alpha=.4, fillstyle='none',\n",
    "             label=f'{posz[i]:d}')\n",
    "    popt,xc,curve,perr = fit(gaussian, file['q'][xmin:xmax], file['I'][xmin:xmax], p0=[350,1.8,.3, 50])\n",
    "    a1.plot(xc, curve, c=col[i], lw=2)\n",
    "    a2.plot(posz[i], popt[1], c=col[i], marker='o', markeredgecolor='k', markeredgewidth=.3, ls='')\n",
    "    # a3.plot(posz[i], popt[2], c=col[i], marker='o', markeredgecolor='k', markeredgewidth=.3, ls='')\n",
    "    # print(file['I'][3:-3])\n",
    "a1.axvline(x=file['q'][3:-3][xmin], ls='--', c='gray')\n",
    "\n",
    "a1.grid(ls=':',alpha=.9)\n",
    "legend=a1.legend(title='distance (mm)', fontsize=8)\n",
    "plt.setp(legend.get_title(),fontsize=8)\n",
    "# plt.xlim(file['q'][3], file['q'][-3])\n",
    "a1.set_ylabel(r'$I(q)$')\n",
    "a1.set_xlabel(r'$q$ $\\rm (\\AA^{-1})$')\n",
    "a2.set_ylabel(r'Peak position ($\\AA$)')\n",
    "a2.set_xlabel('distance (mm)')\n",
    "# a3.set_ylabel('sigma')\n",
    "# a3.set_xlabel('distance (mm)')"
   ]
  },
  {
   "cell_type": "markdown",
   "id": "36576623-b0e6-4942-b37e-90add4837831",
   "metadata": {},
   "source": [
    "# Testing shit"
   ]
  },
  {
   "cell_type": "markdown",
   "id": "5ae8cb81-5dd3-4640-a11c-79a6d27e5f5a",
   "metadata": {},
   "source": [
    "### Only posz=40mm"
   ]
  },
  {
   "cell_type": "code",
   "execution_count": null,
   "id": "6ce8fd67-b2c9-461b-b12d-7a8e35e865f3",
   "metadata": {},
   "outputs": [],
   "source": [
    "runs = [1192473,1192474,1192475,1192476,1192477,1192478,1192479,1192480,1192481] # 40\n",
    "\n",
    "plt.figure(figsize=(5,4))\n",
    "col = plt.cm.viridis(np.linspace(0,1,len(runs)))\n",
    "\n",
    "for i in range(len(runs)):\n",
    "    file = np.load(f'{path}water_{runs[i]}.npz')\n",
    "    plt.plot(file['q'], file['I'], c=col[i], label=runs[i])\n",
    "    \n",
    "for ref in [1.6129, 1.71, 1.82]:\n",
    "    plt.axvline(x=ref, ls='--', c='k', alpha=0.7, lw=1)\n",
    "\n",
    "plt.xlim(file['q'][3], file['q'][-3])\n",
    "plt.grid(ls=':',alpha=.9)\n",
    "legend=plt.legend(title='run', handlelength=1, fontsize=9)\n",
    "plt.setp(legend.get_title(),fontsize=8)\n",
    "plt.ylabel(r'$I(q)$')\n",
    "plt.xlabel(r'$q$ $\\rm (\\AA^{-1})$') \n",
    "plt.title('z=40mm', fontsize=10)"
   ]
  },
  {
   "cell_type": "markdown",
   "id": "cf8fd140-9ad2-49bb-911d-8f95b6394051",
   "metadata": {},
   "source": [
    "# All temps"
   ]
  },
  {
   "cell_type": "code",
   "execution_count": null,
   "id": "f24fc418-fcb0-489a-805d-ca8630fa9cfd",
   "metadata": {},
   "outputs": [],
   "source": [
    "runs = [[1192430,1192431], # 5\n",
    "        [1192433,1192434,1192435], # 10\n",
    "        [1192437,1192438,1192439,1192440], # 15 \n",
    "        [1192442,1192443,1192444], #20\n",
    "        [1192446,1192447,1192448], # 25\n",
    "        [1192450,1192451,1192452,1192453,1192454], # 30\n",
    "        [1192492],\n",
    "        # [1192460,1192463,1192466,1192470], #35\n",
    "        [1192473,1192475,1192476,1192477,1192481], # 40\n",
    "       ] \n",
    "\n",
    "\n",
    "posz = [5,10,15,20,25,30,35,40]\n",
    "print(len(runs), len(posz))"
   ]
  },
  {
   "cell_type": "code",
   "execution_count": null,
   "id": "0cbf4a57-147b-432b-a6d6-bd9d32941e06",
   "metadata": {},
   "outputs": [],
   "source": [
    "fig, (a1,a2) = plt.subplots(1,2,figsize=(9,3.5), tight_layout=True)\n",
    "col = plt.cm.coolwarm_r(np.linspace(0,1,len(runs)))\n",
    "\n",
    "Iqs = []\n",
    "qs = []\n",
    "\n",
    "for i in range(len(runs)):\n",
    "    Iq_tmp = []\n",
    "    tmp = []\n",
    "    for j in range(len(runs[i])):\n",
    "        file = np.load(f'{path}water_{runs[i][j]}.npz')\n",
    "        Iq_tmp.append(file['I'])\n",
    "        tmp.append(file['hit_rate']*100)\n",
    "    qs.append(file['q'])\n",
    "    Iqs.append(np.average(Iq_tmp, axis=0))\n",
    "    a1.plot(qs[i], Iqs[i], c=col[i], label=posz[i])\n",
    "    a2.plot(posz[i], np.average(tmp, axis=0),marker='o',c=col[i], markeredgecolor='k', markeredgewidth=.3)\n",
    "\n",
    "for ref in [1.6129, 1.71, 1.82]:\n",
    "    a1.axvline(x=ref, ls='--', c='k', alpha=0.7, lw=1)    \n",
    "    \n",
    "a1.set_xlim(file['q'][3], file['q'][-3])\n",
    "a1.grid(ls=':',alpha=.9)\n",
    "legend=a1.legend(handlelength=1, fontsize=9)\n",
    "legend.set_title('distance (mm)',prop={'size':9})\n",
    "# a1.setp(legend.get_title(),fontsize=8)\n",
    "a1.set_ylabel(r'$I(q)$')\n",
    "a1.set_xlabel(r'$q$ $\\rm (\\AA^{-1})$') \n",
    "a1.set_title('Averaged over all runs', fontsize=10)\n",
    "a2.set_xlabel('distance (mm)')\n",
    "a2.set_ylabel('hit rate %')\n",
    "a2.set_yscale('log')"
   ]
  },
  {
   "cell_type": "markdown",
   "id": "84fafc29-b2f1-4edf-b93d-81ddd1e8053d",
   "metadata": {},
   "source": [
    "**Fits**"
   ]
  },
  {
   "cell_type": "code",
   "execution_count": null,
   "id": "eba2a7c6-ee6a-4e19-8cad-622536791019",
   "metadata": {},
   "outputs": [],
   "source": [
    "fig, (a1,a2) = plt.subplots(1,2,figsize=(7,3), tight_layout=True)\n",
    "col = plt.cm.coolwarm_r(np.linspace(0,1,len(runs)))\n",
    "\n",
    "Iqs = []\n",
    "qs = []\n",
    "xmin, xmax = 230, -1\n",
    "for i in range(len(runs)):\n",
    "    Iq_tmp = []\n",
    "    for j in range(len(runs[i])):\n",
    "        file = np.load(f'{path}water_{runs[i][j]}.npz')\n",
    "        Iq_tmp.append(file['I'])\n",
    "    qs.append(file['q'])\n",
    "    Iqs.append(np.average(Iq_tmp, axis=0))\n",
    "    a1.plot(qs[i], Iqs[i], c=col[i], ls='',marker='o', ms=2, alpha=.3, fillstyle='none', label=posz[i])\n",
    "    if i != len(runs)-1:\n",
    "        popt,xc,curve,perr = fit(gaussian, qs[i][xmin:xmax], Iqs[i][xmin:xmax], p0=[350,1.8,.3, 50])\n",
    "        a1.plot(xc, curve, c=col[i], lw=2)\n",
    "        a2.plot(posz[i], popt[1], c=col[i], marker='o', markeredgecolor='k', markeredgewidth=.3, ls='')\n",
    "    \n",
    "# for ref in [1.6129, 1.71, 1.82]:\n",
    "#     plt.axvline(x=ref, ls='--', c='k', alpha=0.7, lw=1)\n",
    "a1.axvline(x=qs[-1][xmin], ls='--', c='gray')\n",
    "\n",
    "a1.set_xlim(file['q'][3], file['q'][-3])\n",
    "a1.grid(ls=':',alpha=.9)\n",
    "leg = a1.legend(handlelength=1, fontsize=9, ncol=2)\n",
    "leg.set_title('distance (mm)',prop={'size':9})\n",
    "# a1.setp(legend.get_title(),fontsize=8)\n",
    "a1.set_ylabel(r'$I(q)$')\n",
    "a1.set_xlabel(r'$q$ $\\rm (\\AA^{-1})$') \n",
    "a1.set_title('Averaged over all runs', fontsize=10)\n",
    "a2.set_ylabel(r'Peak position ($\\AA$)')\n",
    "a2.set_xlabel('distance (mm)')"
   ]
  },
  {
   "cell_type": "code",
   "execution_count": null,
   "id": "cbdfe64b-8edd-47e5-8b7c-e66d30347118",
   "metadata": {},
   "outputs": [],
   "source": []
  }
 ],
 "metadata": {
  "kernelspec": {
   "display_name": "Python 3 (ipykernel)",
   "language": "python",
   "name": "python3"
  },
  "language_info": {
   "codemirror_mode": {
    "name": "ipython",
    "version": 3
   },
   "file_extension": ".py",
   "mimetype": "text/x-python",
   "name": "python",
   "nbconvert_exporter": "python",
   "pygments_lexer": "ipython3",
   "version": "3.9.6"
  }
 },
 "nbformat": 4,
 "nbformat_minor": 5
}
