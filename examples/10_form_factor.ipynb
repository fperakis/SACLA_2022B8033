{
 "cells": [
  {
   "cell_type": "code",
   "execution_count": null,
   "id": "7cb93984-ed74-4b16-b399-204c5e1c2192",
   "metadata": {},
   "outputs": [],
   "source": [
    "%matplotlib inline\n",
    "import numpy as np\n",
    "import matplotlib.pyplot as plt"
   ]
  },
  {
   "cell_type": "code",
   "execution_count": null,
   "id": "3c8ff8dd-661a-4d35-8aa1-5c681391375c",
   "metadata": {},
   "outputs": [],
   "source": [
    "# parameters\n",
    "norm = 5\n",
    "run = [1192434,1192473] # one warm, one cold run\n",
    "\n",
    "# paths\n",
    "path='/UserData/maddalena/sacla2022/05-processed_I/'"
   ]
  },
  {
   "cell_type": "code",
   "execution_count": null,
   "id": "e75530b2-32ed-45e8-b9e6-6c566f3d5ca7",
   "metadata": {},
   "outputs": [],
   "source": [
    "# load Iq data \n",
    "file =np.load(f'{path}water_{run[1]}.npz')\n",
    "q = file['q'][6:-2] # here I crop the low q's and very high q's cause they need masking\n",
    "Iq =file['I'][6:-2]\n"
   ]
  },
  {
   "cell_type": "code",
   "execution_count": null,
   "id": "f8a8cb42-158b-4e26-b834-69900bce5c41",
   "metadata": {},
   "outputs": [],
   "source": [
    "# load form factor and Compton scattering (for H2O)\n",
    "data = np.loadtxt('../examples/form_factor.txt', skiprows=9)\n",
    "q_temp  = data[:,0] # q values \n",
    "CS_temp = data[:,3] # compton scattering\n",
    "FF_temp = data[:,4] # molecular form factor\n",
    "\n",
    "# interpolate data to the experimental q array\n",
    "CS = np.interp(q, q_temp, CS_temp)\n",
    "FF = np.interp(q, q_temp, FF_temp)\n",
    "\n",
    "# note that this is for pure water, need to be updated "
   ]
  },
  {
   "cell_type": "code",
   "execution_count": null,
   "id": "976ede13-2a54-474b-b15a-daf4d290a512",
   "metadata": {},
   "outputs": [],
   "source": [
    "def calculate_Sq(q, Iq, CS, FF, norm_=5):\n",
    "    '''\n",
    "    Calculates the Structure factor for a given I(q)\n",
    "    from [Kim et al., Science 358, 1589–1593 (2017), SI: page 7]\n",
    "    note that this is for pure water\n",
    "    need to be updated for aqueous solutions \n",
    "    \n",
    "    Iq: angularly intergrated intensity\n",
    "    CS: compton scattering\n",
    "    FF: molecular form factor\n",
    "    norm: normalisation parameter (need to think how to convert I(q) to electron units)\n",
    "    '''\n",
    "\n",
    "    # structure factor \n",
    "    Sq = (Iq/norm_ - CS)/FF \n",
    "    \n",
    "    return Sq"
   ]
  },
  {
   "cell_type": "code",
   "execution_count": null,
   "id": "fc66a0e1-d63b-43f1-ae28-931cae084aa8",
   "metadata": {},
   "outputs": [],
   "source": [
    "# plot\n",
    "plt.figure(figsize=[5,4])\n",
    "plt.plot(q,Iq/norm,label = 'I(Q)')\n",
    "plt.plot(q,CS,label = 'CS')\n",
    "plt.plot(q,FF, label = r'|FF|$^2$') \n",
    "plt.xlabel(r'Q ($\\rm \\AA ^{-1}$) ')\n",
    "plt.ylabel('I(q)')\n",
    "#plt.xlim(0,2)\n",
    "plt.legend()\n",
    "plt.show()"
   ]
  },
  {
   "cell_type": "code",
   "execution_count": null,
   "id": "b7fcd9a8-69ea-4e13-a52e-7db88bd9bc43",
   "metadata": {},
   "outputs": [],
   "source": [
    "Sq = calculate_Sq(q, Iq, CS, FF, norm)\n",
    "\n",
    "file =np.load(f'{path}water_{run[0]}.npz')\n",
    "Iq2 =file['I'][6:-2]\n",
    "Sq2 = calculate_Sq(q, Iq2, CS, FF, norm_=5.5)\n",
    "\n",
    "\n",
    "plt.figure(figsize=[5,4])\n",
    "plt.plot(q,Sq,c='black', label ='z = 40 mm')\n",
    "plt.plot(q,Sq2,c='red', label ='z = 10 mm')\n",
    "plt.ylabel('S(q)')\n",
    "plt.xlabel(r'Q ($\\rm \\AA ^{-1}$) ')\n",
    "plt.legend()\n",
    "plt.show()"
   ]
  },
  {
   "cell_type": "code",
   "execution_count": null,
   "id": "641c2b2d-5336-44bc-bc63-c6c34b61ab72",
   "metadata": {},
   "outputs": [],
   "source": []
  },
  {
   "cell_type": "code",
   "execution_count": null,
   "id": "b4c17da7-5f19-4e95-a207-e03ba88f872d",
   "metadata": {},
   "outputs": [],
   "source": []
  }
 ],
 "metadata": {
  "kernelspec": {
   "display_name": "Python 3 (ipykernel)",
   "language": "python",
   "name": "python3"
  },
  "language_info": {
   "codemirror_mode": {
    "name": "ipython",
    "version": 3
   },
   "file_extension": ".py",
   "mimetype": "text/x-python",
   "name": "python",
   "nbconvert_exporter": "python",
   "pygments_lexer": "ipython3",
   "version": "3.9.6"
  }
 },
 "nbformat": 4,
 "nbformat_minor": 5
}
