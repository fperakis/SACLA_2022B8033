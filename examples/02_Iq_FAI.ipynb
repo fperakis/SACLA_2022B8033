{
 "cells": [
  {
   "cell_type": "code",
   "execution_count": 37,
   "id": "f95bf1c0-3c58-483f-ad5b-0276eaec18d1",
   "metadata": {},
   "outputs": [],
   "source": [
    "%matplotlib inline\n",
    "import numpy as np\n",
    "import matplotlib.pyplot as plt\n",
    "import h5py \n",
    "import pyFAI, pyFAI.detectors,pyFAI.azimuthalIntegrator\n",
    "\n",
    "def visit_func(name, node):\n",
    "    '''\n",
    "    Return all groups and datasets name and shapes of h5 file called name\n",
    "    '''\n",
    "    if isinstance(node, h5py.Group):\n",
    "        print(node.name)\n",
    "    elif isinstance(node, h5py.Dataset):\n",
    "        if (node.dtype == 'object') :\n",
    "            print (node.name, 'is an object Dataset')\n",
    "        else:\n",
    "            print('\\t', node.name, node.shape)\n",
    "    else:\n",
    "        print(node.name, 'is an unknown type')"
   ]
  },
  {
   "cell_type": "code",
   "execution_count": 38,
   "id": "7e75602c-beb7-464e-96eb-4476f98e1c09",
   "metadata": {},
   "outputs": [],
   "source": [
    "# -- parameters\n",
    "run = 1145497\n",
    "\n",
    "# detector description\n",
    "with h5py.File(str(run)+'.h5', 'r') as f:\n",
    "    Pixel1=f[ '/run_'+str(run)+'/detector_2d_assembled_1/detector_info/pixel_size_in_micro_meter'][0]*10**-6\n",
    "    Pixel2=f[ '/run_'+str(run)+'/detector_2d_assembled_1/detector_info/pixel_size_in_micro_meter'][1]*10**-6\n",
    "    det=pyFAI.detectors.Detector(pixel1=Pixel1,pixel2=Pixel2,max_shape=[2399,2399]) \n",
    "\n",
    "    \n",
    "#define an integrator\n",
    "sample_det_distance=0.095\n",
    "wavelength=0.887e-10\n",
    "posx=Pixel1*1200\n",
    "posy=Pixel2*1150\n",
    "ai = pyFAI.azimuthalIntegrator.AzimuthalIntegrator(dist=sample_det_distance, detector=det, wavelength=wavelength,poni1=posx,poni2=posy)\n"
   ]
  },
  {
   "cell_type": "code",
   "execution_count": 39,
   "id": "1a010724-5fc2-4930-b3b8-34324946d813",
   "metadata": {},
   "outputs": [
    {
     "data": {
      "text/plain": [
       "<matplotlib.colorbar.Colorbar at 0x7f71f092f310>"
      ]
     },
     "execution_count": 39,
     "metadata": {},
     "output_type": "execute_result"
    },
    {
     "data": {
      "image/png": "[encoded data removed]",
      "text/plain": [
       "<Figure size 640x480 with 2 Axes>"
      ]
     },
     "metadata": {},
     "output_type": "display_data"
    }
   ],
   "source": [
    "# mask\n",
    "with h5py.File(str(run)+'.h5', 'r') as f:\n",
    "    data=f['/run_1145497/detector_2d_assembled_1/tag_'+str(f['/run_1145497/event_info/tag_number_list'][0])+'/detector_data'][:]\n",
    "mask=data[:,:]==0\n",
    "plt.figure()\n",
    "plt.imshow(mask,vmin=0,vmax=1)\n",
    "plt.plot(posx,posy,'x',color='red')\n",
    "plt.colorbar()"
   ]
  },
  {
   "cell_type": "code",
   "execution_count": 40,
   "id": "b4bfc91b-78c6-4b25-ab96-48cc00e0585b",
   "metadata": {},
   "outputs": [
    {
     "ename": "KeyError",
     "evalue": "'Unable to open object (component not found)'",
     "output_type": "error",
     "traceback": [
      "\u001b[0;31m---------------------------------------------------------------------------\u001b[0m",
      "\u001b[0;31mKeyError\u001b[0m                                  Traceback (most recent call last)",
      "\u001b[0;32m/tmp/ipykernel_252088/3868601552.py\u001b[0m in \u001b[0;36m<module>\u001b[0;34m\u001b[0m\n\u001b[1;32m      3\u001b[0m     \u001b[0mi\u001b[0m\u001b[0;34m=\u001b[0m\u001b[0;36m0\u001b[0m\u001b[0;34m\u001b[0m\u001b[0;34m\u001b[0m\u001b[0m\n\u001b[1;32m      4\u001b[0m     \u001b[0;32mfor\u001b[0m \u001b[0mtag\u001b[0m \u001b[0;32min\u001b[0m \u001b[0mf\u001b[0m\u001b[0;34m[\u001b[0m\u001b[0;34m'/run_1145497/event_info/tag_number_list'\u001b[0m\u001b[0;34m]\u001b[0m\u001b[0;34m[\u001b[0m\u001b[0;34m:\u001b[0m\u001b[0;34m]\u001b[0m\u001b[0;34m:\u001b[0m\u001b[0;34m\u001b[0m\u001b[0;34m\u001b[0m\u001b[0m\n\u001b[0;32m----> 5\u001b[0;31m         q,I[i,:]=np.array(ai.integrate1d(f['/run_'+str(run)+'/detector_2d_assembled_1/tag_'+str(tag)+'/detector_data'][:],\n\u001b[0m\u001b[1;32m      6\u001b[0m                                       300,mask=mask,correctSolidAngle=False,unit='q_nm^-1'))\n\u001b[1;32m      7\u001b[0m         \u001b[0mi\u001b[0m\u001b[0;34m=\u001b[0m\u001b[0mi\u001b[0m\u001b[0;34m+\u001b[0m\u001b[0;36m1\u001b[0m\u001b[0;34m\u001b[0m\u001b[0;34m\u001b[0m\u001b[0m\n",
      "\u001b[0;32mh5py/_objects.pyx\u001b[0m in \u001b[0;36mh5py._objects.with_phil.wrapper\u001b[0;34m()\u001b[0m\n",
      "\u001b[0;32mh5py/_objects.pyx\u001b[0m in \u001b[0;36mh5py._objects.with_phil.wrapper\u001b[0;34m()\u001b[0m\n",
      "\u001b[0;32m~/aqua/lib/python3.7/site-packages/h5py/_hl/group.py\u001b[0m in \u001b[0;36m__getitem__\u001b[0;34m(self, name)\u001b[0m\n\u001b[1;32m    326\u001b[0m                 \u001b[0;32mraise\u001b[0m \u001b[0mValueError\u001b[0m\u001b[0;34m(\u001b[0m\u001b[0;34m\"Invalid HDF5 object reference\"\u001b[0m\u001b[0;34m)\u001b[0m\u001b[0;34m\u001b[0m\u001b[0;34m\u001b[0m\u001b[0m\n\u001b[1;32m    327\u001b[0m         \u001b[0;32melif\u001b[0m \u001b[0misinstance\u001b[0m\u001b[0;34m(\u001b[0m\u001b[0mname\u001b[0m\u001b[0;34m,\u001b[0m \u001b[0;34m(\u001b[0m\u001b[0mbytes\u001b[0m\u001b[0;34m,\u001b[0m \u001b[0mstr\u001b[0m\u001b[0;34m)\u001b[0m\u001b[0;34m)\u001b[0m\u001b[0;34m:\u001b[0m\u001b[0;34m\u001b[0m\u001b[0;34m\u001b[0m\u001b[0m\n\u001b[0;32m--> 328\u001b[0;31m             \u001b[0moid\u001b[0m \u001b[0;34m=\u001b[0m \u001b[0mh5o\u001b[0m\u001b[0;34m.\u001b[0m\u001b[0mopen\u001b[0m\u001b[0;34m(\u001b[0m\u001b[0mself\u001b[0m\u001b[0;34m.\u001b[0m\u001b[0mid\u001b[0m\u001b[0;34m,\u001b[0m \u001b[0mself\u001b[0m\u001b[0;34m.\u001b[0m\u001b[0m_e\u001b[0m\u001b[0;34m(\u001b[0m\u001b[0mname\u001b[0m\u001b[0;34m)\u001b[0m\u001b[0;34m,\u001b[0m \u001b[0mlapl\u001b[0m\u001b[0;34m=\u001b[0m\u001b[0mself\u001b[0m\u001b[0;34m.\u001b[0m\u001b[0m_lapl\u001b[0m\u001b[0;34m)\u001b[0m\u001b[0;34m\u001b[0m\u001b[0;34m\u001b[0m\u001b[0m\n\u001b[0m\u001b[1;32m    329\u001b[0m         \u001b[0;32melse\u001b[0m\u001b[0;34m:\u001b[0m\u001b[0;34m\u001b[0m\u001b[0;34m\u001b[0m\u001b[0m\n\u001b[1;32m    330\u001b[0m             raise TypeError(\"Accessing a group is done with bytes or str, \"\n",
      "\u001b[0;32mh5py/_objects.pyx\u001b[0m in \u001b[0;36mh5py._objects.with_phil.wrapper\u001b[0;34m()\u001b[0m\n",
      "\u001b[0;32mh5py/_objects.pyx\u001b[0m in \u001b[0;36mh5py._objects.with_phil.wrapper\u001b[0;34m()\u001b[0m\n",
      "\u001b[0;32mh5py/h5o.pyx\u001b[0m in \u001b[0;36mh5py.h5o.open\u001b[0;34m()\u001b[0m\n",
      "\u001b[0;31mKeyError\u001b[0m: 'Unable to open object (component not found)'"
     ]
    }
   ],
   "source": [
    "with h5py.File(str(run)+'.h5', 'r') as f:\n",
    "    I=np.zeros([len(f['/run_1145497/event_info/tag_number_list']),300])\n",
    "    i=0\n",
    "    for tag in f['/run_1145497/event_info/tag_number_list'][:]:\n",
    "        q,I[i,:]=np.array(ai.integrate1d(f['/run_'+str(run)+'/detector_2d_assembled_1/tag_'+str(tag)+'/detector_data'][:],\n",
    "                                      300,mask=mask,correctSolidAngle=False,unit='q_nm^-1'))\n",
    "        i=i+1\n",
    "              \n"
   ]
  },
  {
   "cell_type": "code",
   "execution_count": 43,
   "id": "7ef75500-9cb1-4acf-9274-b2f0065bd55b",
   "metadata": {},
   "outputs": [],
   "source": [
    "hf = h5py.File('data.h5', 'w')\n",
    "hf.create_dataset('q', data=q)\n",
    "hf.create_dataset('I', data=I)\n",
    "hf.close()"
   ]
  },
  {
   "cell_type": "code",
   "execution_count": 44,
   "id": "1efc4a35-02ce-4ec4-8713-0d0cdd1739a5",
   "metadata": {},
   "outputs": [],
   "source": [
    "data=h5py.File('data.h5', 'r')"
   ]
  },
  {
   "cell_type": "code",
   "execution_count": null,
   "id": "303c562a-4ec9-4451-9d77-84f4e9cab143",
   "metadata": {},
   "outputs": [],
   "source": []
  },
  {
   "cell_type": "code",
   "execution_count": null,
   "id": "a8767762-3af8-4d6c-9496-81b00c53a268",
   "metadata": {},
   "outputs": [],
   "source": []
  }
 ],
 "metadata": {
  "kernelspec": {
   "display_name": "Python 3 (ipykernel)",
   "language": "python",
   "name": "python3"
  },
  "language_info": {
   "codemirror_mode": {
    "name": "ipython",
    "version": 3
   },
   "file_extension": ".py",
   "mimetype": "text/x-python",
   "name": "python",
   "nbconvert_exporter": "python",
   "pygments_lexer": "ipython3",
   "version": "3.7.9"
  }
 },
 "nbformat": 4,
 "nbformat_minor": 5
}
